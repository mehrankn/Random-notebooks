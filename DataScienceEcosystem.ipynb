{
 "cells": [
  {
   "cell_type": "markdown",
   "id": "5fffa2a8-ede9-4271-bd34-e2a428120f9c",
   "metadata": {},
   "source": [
    "# Data Science Tools and Ecosystem"
   ]
  },
  {
   "cell_type": "markdown",
   "id": "49bf1d7b-df18-4905-99ec-f5002991e540",
   "metadata": {},
   "source": [
    "In this notebook, Data Science Tools and Ecosystem are summarized."
   ]
  },
  {
   "cell_type": "markdown",
   "id": "2a82b7be-47dd-4d0d-b0ca-1600871aaf48",
   "metadata": {},
   "source": [
    "**Objective:**\n",
    "- List popular languages for Data Science\n",
    "- List polular tools for Data Science\n",
    "- Create tables in jupyter notebook markdown cells\n",
    "\n"
   ]
  },
  {
   "cell_type": "markdown",
   "id": "833f2284-cb38-462e-992a-9ef9ee502f53",
   "metadata": {},
   "source": [
    "Some of the popular languages that Data Scientists use are:\n",
    "\n",
    "1. Python\n",
    "2. R\n",
    "3. Java\n",
    "4. Visual Studio\n"
   ]
  },
  {
   "cell_type": "markdown",
   "id": "036cd454-e06a-43a6-bf2d-b3ecb82a6606",
   "metadata": {},
   "source": [
    "Some of the commonly used libraries used by Data Scientists include:\n",
    "1. numpy\n",
    "2. panda\n",
    "3. matplotlib\n",
    "4. scikit"
   ]
  },
  {
   "cell_type": "markdown",
   "id": "462b9a28-6a9e-475d-9eab-6db857608964",
   "metadata": {},
   "source": [
    "|Data Science Tools|\n",
    "| --- |\n",
    "|Jupyter notenbook|\n",
    "|Rstudio|\n",
    "|TensorFelow|\n"
   ]
  },
  {
   "cell_type": "markdown",
   "id": "fbccee2d-b82b-406c-aa5e-2ed93585c5a5",
   "metadata": {},
   "source": [
    "### Below are a few examples of evaluating arithmetic expressions in Python"
   ]
  },
  {
   "cell_type": "code",
   "execution_count": 10,
   "id": "ebd3f0f3-1eab-4983-83ea-b44cdea98118",
   "metadata": {},
   "outputs": [
    {
     "data": {
      "text/plain": [
       "17"
      ]
     },
     "execution_count": 10,
     "metadata": {},
     "output_type": "execute_result"
    }
   ],
   "source": [
    "#This a simple arithmetic expression to mutiply then add integers\n",
    "(3*4)+5"
   ]
  },
  {
   "cell_type": "code",
   "execution_count": 11,
   "id": "1c5e615b-44ab-4836-be89-8182430cecab",
   "metadata": {},
   "outputs": [
    {
     "data": {
      "text/plain": [
       "3.33"
      ]
     },
     "execution_count": 11,
     "metadata": {},
     "output_type": "execute_result"
    }
   ],
   "source": [
    "#This will convert 200 minutes to hours by diving by 60\n",
    "round(200/60,2)"
   ]
  },
  {
   "cell_type": "markdown",
   "id": "8b941616-75c3-4efc-8668-758661fb0b06",
   "metadata": {},
   "source": [
    "## Author\n",
    "Mehran"
   ]
  },
  {
   "cell_type": "code",
   "execution_count": null,
   "id": "194a6d25-2719-44bb-b428-d33f75521171",
   "metadata": {},
   "outputs": [],
   "source": []
  }
 ],
 "metadata": {
  "kernelspec": {
   "display_name": "Python 3 (ipykernel)",
   "language": "python",
   "name": "python3"
  },
  "language_info": {
   "codemirror_mode": {
    "name": "ipython",
    "version": 3
   },
   "file_extension": ".py",
   "mimetype": "text/x-python",
   "name": "python",
   "nbconvert_exporter": "python",
   "pygments_lexer": "ipython3",
   "version": "3.12.8"
  }
 },
 "nbformat": 4,
 "nbformat_minor": 5
}
